{
  "nbformat": 4,
  "nbformat_minor": 0,
  "metadata": {
    "colab": {
      "name": "Simple RS system",
      "provenance": [],
      "authorship_tag": "ABX9TyONvmF+5w52cp1Tqmn/UoUh"
    },
    "kernelspec": {
      "name": "python3",
      "display_name": "Python 3"
    },
    "language_info": {
      "name": "python"
    }
  },
  "cells": [
    {
      "cell_type": "markdown",
      "source": [
        "# Simple RS System\n",
        "\n",
        "- Data: MovieLens\n",
        "\n",
        "- Train/ Test 나누기\n",
        "\n",
        "- 평가: RMSE\n"
      ],
      "metadata": {
        "id": "nLn_ZZiEBftV"
      }
    },
    {
      "cell_type": "markdown",
      "source": [
        "## 필요한 라이브러리 정의 및 Data Load"
      ],
      "metadata": {
        "id": "l_yQvCKvCKjo"
      }
    },
    {
      "cell_type": "code",
      "execution_count": null,
      "metadata": {
        "id": "_IA_mzir4bVz"
      },
      "outputs": [],
      "source": [
        "import os\n",
        "from tqdm import tqdm\n",
        "import pandas as pd\n",
        "import numpy as np\n",
        "\n",
        "import warnings\n",
        "warnings.filterwarnings('ignore')"
      ]
    },
    {
      "cell_type": "code",
      "source": [
        "from sklearn.model_selection import train_test_split\n",
        "from sklearn.metrics import mean_squared_error\n",
        "from scipy.sparse import csr_matrix"
      ],
      "metadata": {
        "id": "BXXN5rJnB9eB"
      },
      "execution_count": null,
      "outputs": []
    },
    {
      "cell_type": "code",
      "source": [
        "ratings = pd.read_csv('./ratings.csv')\n",
        "movies = pd.read_csv('./movies.csv')\n",
        "tags = pd.read_csv('./tags.csv')"
      ],
      "metadata": {
        "id": "4ym0cytvCIpq"
      },
      "execution_count": null,
      "outputs": []
    },
    {
      "cell_type": "code",
      "source": [
        ""
      ],
      "metadata": {
        "id": "JB6K4rsFCdvx"
      },
      "execution_count": null,
      "outputs": []
    },
    {
      "cell_type": "markdown",
      "source": [
        "**이번 실습에는 평점 데이터를 중점으로 활용하겠습니다**"
      ],
      "metadata": {
        "id": "VRT34DRcClk_"
      }
    },
    {
      "cell_type": "code",
      "source": [
        "users = ratings['userId'].unique()\n",
        "movies = ratings['movieId'].unique()\n",
        "\n",
        "print('총 유저 수:', len(users))\n",
        "print('총 영화 수:', len(movies))"
      ],
      "metadata": {
        "colab": {
          "base_uri": "https://localhost:8080/"
        },
        "id": "KCxD94heCqXc",
        "outputId": "e5580cb8-da62-43af-b048-17e3a0b0337a"
      },
      "execution_count": null,
      "outputs": [
        {
          "output_type": "stream",
          "name": "stdout",
          "text": [
            "총 유저 수: 610\n",
            "총 영화 수: 9724\n"
          ]
        }
      ]
    },
    {
      "cell_type": "markdown",
      "source": [
        "pivot함수: https://pandas.pydata.org/pandas-docs/stable/reference/api/pandas.DataFrame.pivot.html"
      ],
      "metadata": {
        "id": "xLt9PYGjDmDs"
      }
    },
    {
      "cell_type": "code",
      "source": [
        "#pivot메소드를 movie특징 선정\n",
        "\n",
        "user_movie_matrix = ratings.pivot(\n",
        "    index = 'movieId',\n",
        "    columns = 'userId',\n",
        "    values='rating'\n",
        ").fillna(0)\n",
        "#csr_matrix를 활용하여 sparse matrix만듭니다.\n",
        "\n",
        "sparse_mat = csr_matrix(user_movie_matrix.values)\n"
      ],
      "metadata": {
        "id": "ObTW2y93DAMq"
      },
      "execution_count": null,
      "outputs": []
    },
    {
      "cell_type": "code",
      "source": [
        "print(user_movie_matrix)"
      ],
      "metadata": {
        "colab": {
          "base_uri": "https://localhost:8080/"
        },
        "id": "UdNh91oFDiZx",
        "outputId": "9e4b2a5f-3f17-47d3-9b8e-94ae6970d6ea"
      },
      "execution_count": null,
      "outputs": [
        {
          "output_type": "stream",
          "name": "stdout",
          "text": [
            "userId   1    2    3    4    5    6    7    8    9    10   ...  601  602  603  \\\n",
            "movieId                                                    ...                  \n",
            "1        4.0  0.0  0.0  0.0  4.0  0.0  4.5  0.0  0.0  0.0  ...  4.0  0.0  4.0   \n",
            "2        0.0  0.0  0.0  0.0  0.0  4.0  0.0  4.0  0.0  0.0  ...  0.0  4.0  0.0   \n",
            "3        4.0  0.0  0.0  0.0  0.0  5.0  0.0  0.0  0.0  0.0  ...  0.0  0.0  0.0   \n",
            "4        0.0  0.0  0.0  0.0  0.0  3.0  0.0  0.0  0.0  0.0  ...  0.0  0.0  0.0   \n",
            "5        0.0  0.0  0.0  0.0  0.0  5.0  0.0  0.0  0.0  0.0  ...  0.0  0.0  0.0   \n",
            "...      ...  ...  ...  ...  ...  ...  ...  ...  ...  ...  ...  ...  ...  ...   \n",
            "193581   0.0  0.0  0.0  0.0  0.0  0.0  0.0  0.0  0.0  0.0  ...  0.0  0.0  0.0   \n",
            "193583   0.0  0.0  0.0  0.0  0.0  0.0  0.0  0.0  0.0  0.0  ...  0.0  0.0  0.0   \n",
            "193585   0.0  0.0  0.0  0.0  0.0  0.0  0.0  0.0  0.0  0.0  ...  0.0  0.0  0.0   \n",
            "193587   0.0  0.0  0.0  0.0  0.0  0.0  0.0  0.0  0.0  0.0  ...  0.0  0.0  0.0   \n",
            "193609   0.0  0.0  0.0  0.0  0.0  0.0  0.0  0.0  0.0  0.0  ...  0.0  0.0  0.0   \n",
            "\n",
            "userId   604  605  606  607  608  609  610  \n",
            "movieId                                     \n",
            "1        3.0  4.0  2.5  4.0  2.5  3.0  5.0  \n",
            "2        5.0  3.5  0.0  0.0  2.0  0.0  0.0  \n",
            "3        0.0  0.0  0.0  0.0  2.0  0.0  0.0  \n",
            "4        0.0  0.0  0.0  0.0  0.0  0.0  0.0  \n",
            "5        3.0  0.0  0.0  0.0  0.0  0.0  0.0  \n",
            "...      ...  ...  ...  ...  ...  ...  ...  \n",
            "193581   0.0  0.0  0.0  0.0  0.0  0.0  0.0  \n",
            "193583   0.0  0.0  0.0  0.0  0.0  0.0  0.0  \n",
            "193585   0.0  0.0  0.0  0.0  0.0  0.0  0.0  \n",
            "193587   0.0  0.0  0.0  0.0  0.0  0.0  0.0  \n",
            "193609   0.0  0.0  0.0  0.0  0.0  0.0  0.0  \n",
            "\n",
            "[9724 rows x 610 columns]\n"
          ]
        }
      ]
    },
    {
      "cell_type": "code",
      "source": [
        "print(sparse_mat)\n",
        "#(영화, 유저)"
      ],
      "metadata": {
        "colab": {
          "base_uri": "https://localhost:8080/"
        },
        "id": "64MnV2mxEgqt",
        "outputId": "761ae102-c58a-4ea4-b442-13b9c70c88fa"
      },
      "execution_count": null,
      "outputs": [
        {
          "output_type": "stream",
          "name": "stdout",
          "text": [
            "  (0, 0)\t4.0\n",
            "  (0, 4)\t4.0\n",
            "  (0, 6)\t4.5\n",
            "  (0, 14)\t2.5\n",
            "  (0, 16)\t4.5\n",
            "  (0, 17)\t3.5\n",
            "  (0, 18)\t4.0\n",
            "  (0, 20)\t3.5\n",
            "  (0, 26)\t3.0\n",
            "  (0, 30)\t5.0\n",
            "  (0, 31)\t3.0\n",
            "  (0, 32)\t3.0\n",
            "  (0, 39)\t5.0\n",
            "  (0, 42)\t5.0\n",
            "  (0, 43)\t3.0\n",
            "  (0, 44)\t4.0\n",
            "  (0, 45)\t5.0\n",
            "  (0, 49)\t3.0\n",
            "  (0, 53)\t3.0\n",
            "  (0, 56)\t5.0\n",
            "  (0, 62)\t5.0\n",
            "  (0, 63)\t4.0\n",
            "  (0, 65)\t4.0\n",
            "  (0, 67)\t2.5\n",
            "  (0, 70)\t5.0\n",
            "  :\t:\n",
            "  (9700, 337)\t2.5\n",
            "  (9701, 337)\t3.0\n",
            "  (9702, 183)\t4.0\n",
            "  (9702, 247)\t3.5\n",
            "  (9703, 317)\t2.5\n",
            "  (9704, 209)\t1.0\n",
            "  (9705, 461)\t2.5\n",
            "  (9706, 49)\t3.5\n",
            "  (9707, 337)\t1.5\n",
            "  (9708, 337)\t4.0\n",
            "  (9709, 337)\t1.0\n",
            "  (9710, 337)\t1.5\n",
            "  (9711, 337)\t1.0\n",
            "  (9712, 337)\t1.0\n",
            "  (9713, 183)\t4.5\n",
            "  (9714, 183)\t3.5\n",
            "  (9715, 183)\t3.0\n",
            "  (9716, 183)\t4.0\n",
            "  (9717, 183)\t4.0\n",
            "  (9718, 183)\t3.5\n",
            "  (9719, 183)\t4.0\n",
            "  (9720, 183)\t3.5\n",
            "  (9721, 183)\t3.5\n",
            "  (9722, 183)\t3.5\n",
            "  (9723, 330)\t4.0\n"
          ]
        }
      ]
    },
    {
      "cell_type": "code",
      "source": [
        "#유저가 몇 개의 영화를 보았는가\n",
        "user_info_df = pd.DataFrame(data = [sum(list(user_movie_matrix[int(x)].value_counts())[1:]) for x in user_movie_matrix.columns],\n",
        "                           index = user_movie_matrix.columns, columns=['movies_rated'])\n",
        "\n"
      ],
      "metadata": {
        "id": "3RKUN65sEleX"
      },
      "execution_count": null,
      "outputs": []
    },
    {
      "cell_type": "code",
      "source": [
        "user_info_df"
      ],
      "metadata": {
        "colab": {
          "base_uri": "https://localhost:8080/",
          "height": 455
        },
        "id": "ZJiiyajsFjHq",
        "outputId": "ed37a7c6-c5b2-4ec1-a85d-a1249c5441a2"
      },
      "execution_count": null,
      "outputs": [
        {
          "output_type": "execute_result",
          "data": {
            "text/plain": [
              "        movies_rated\n",
              "userId              \n",
              "1                232\n",
              "2                 29\n",
              "3                 39\n",
              "4                216\n",
              "5                 44\n",
              "...              ...\n",
              "606             1115\n",
              "607              187\n",
              "608              831\n",
              "609               37\n",
              "610             1302\n",
              "\n",
              "[610 rows x 1 columns]"
            ],
            "text/html": [
              "\n",
              "  <div id=\"df-5756bbec-620d-4a05-99fc-6fe4ff9841b6\">\n",
              "    <div class=\"colab-df-container\">\n",
              "      <div>\n",
              "<style scoped>\n",
              "    .dataframe tbody tr th:only-of-type {\n",
              "        vertical-align: middle;\n",
              "    }\n",
              "\n",
              "    .dataframe tbody tr th {\n",
              "        vertical-align: top;\n",
              "    }\n",
              "\n",
              "    .dataframe thead th {\n",
              "        text-align: right;\n",
              "    }\n",
              "</style>\n",
              "<table border=\"1\" class=\"dataframe\">\n",
              "  <thead>\n",
              "    <tr style=\"text-align: right;\">\n",
              "      <th></th>\n",
              "      <th>movies_rated</th>\n",
              "    </tr>\n",
              "    <tr>\n",
              "      <th>userId</th>\n",
              "      <th></th>\n",
              "    </tr>\n",
              "  </thead>\n",
              "  <tbody>\n",
              "    <tr>\n",
              "      <th>1</th>\n",
              "      <td>232</td>\n",
              "    </tr>\n",
              "    <tr>\n",
              "      <th>2</th>\n",
              "      <td>29</td>\n",
              "    </tr>\n",
              "    <tr>\n",
              "      <th>3</th>\n",
              "      <td>39</td>\n",
              "    </tr>\n",
              "    <tr>\n",
              "      <th>4</th>\n",
              "      <td>216</td>\n",
              "    </tr>\n",
              "    <tr>\n",
              "      <th>5</th>\n",
              "      <td>44</td>\n",
              "    </tr>\n",
              "    <tr>\n",
              "      <th>...</th>\n",
              "      <td>...</td>\n",
              "    </tr>\n",
              "    <tr>\n",
              "      <th>606</th>\n",
              "      <td>1115</td>\n",
              "    </tr>\n",
              "    <tr>\n",
              "      <th>607</th>\n",
              "      <td>187</td>\n",
              "    </tr>\n",
              "    <tr>\n",
              "      <th>608</th>\n",
              "      <td>831</td>\n",
              "    </tr>\n",
              "    <tr>\n",
              "      <th>609</th>\n",
              "      <td>37</td>\n",
              "    </tr>\n",
              "    <tr>\n",
              "      <th>610</th>\n",
              "      <td>1302</td>\n",
              "    </tr>\n",
              "  </tbody>\n",
              "</table>\n",
              "<p>610 rows × 1 columns</p>\n",
              "</div>\n",
              "      <button class=\"colab-df-convert\" onclick=\"convertToInteractive('df-5756bbec-620d-4a05-99fc-6fe4ff9841b6')\"\n",
              "              title=\"Convert this dataframe to an interactive table.\"\n",
              "              style=\"display:none;\">\n",
              "        \n",
              "  <svg xmlns=\"http://www.w3.org/2000/svg\" height=\"24px\"viewBox=\"0 0 24 24\"\n",
              "       width=\"24px\">\n",
              "    <path d=\"M0 0h24v24H0V0z\" fill=\"none\"/>\n",
              "    <path d=\"M18.56 5.44l.94 2.06.94-2.06 2.06-.94-2.06-.94-.94-2.06-.94 2.06-2.06.94zm-11 1L8.5 8.5l.94-2.06 2.06-.94-2.06-.94L8.5 2.5l-.94 2.06-2.06.94zm10 10l.94 2.06.94-2.06 2.06-.94-2.06-.94-.94-2.06-.94 2.06-2.06.94z\"/><path d=\"M17.41 7.96l-1.37-1.37c-.4-.4-.92-.59-1.43-.59-.52 0-1.04.2-1.43.59L10.3 9.45l-7.72 7.72c-.78.78-.78 2.05 0 2.83L4 21.41c.39.39.9.59 1.41.59.51 0 1.02-.2 1.41-.59l7.78-7.78 2.81-2.81c.8-.78.8-2.07 0-2.86zM5.41 20L4 18.59l7.72-7.72 1.47 1.35L5.41 20z\"/>\n",
              "  </svg>\n",
              "      </button>\n",
              "      \n",
              "  <style>\n",
              "    .colab-df-container {\n",
              "      display:flex;\n",
              "      flex-wrap:wrap;\n",
              "      gap: 12px;\n",
              "    }\n",
              "\n",
              "    .colab-df-convert {\n",
              "      background-color: #E8F0FE;\n",
              "      border: none;\n",
              "      border-radius: 50%;\n",
              "      cursor: pointer;\n",
              "      display: none;\n",
              "      fill: #1967D2;\n",
              "      height: 32px;\n",
              "      padding: 0 0 0 0;\n",
              "      width: 32px;\n",
              "    }\n",
              "\n",
              "    .colab-df-convert:hover {\n",
              "      background-color: #E2EBFA;\n",
              "      box-shadow: 0px 1px 2px rgba(60, 64, 67, 0.3), 0px 1px 3px 1px rgba(60, 64, 67, 0.15);\n",
              "      fill: #174EA6;\n",
              "    }\n",
              "\n",
              "    [theme=dark] .colab-df-convert {\n",
              "      background-color: #3B4455;\n",
              "      fill: #D2E3FC;\n",
              "    }\n",
              "\n",
              "    [theme=dark] .colab-df-convert:hover {\n",
              "      background-color: #434B5C;\n",
              "      box-shadow: 0px 1px 3px 1px rgba(0, 0, 0, 0.15);\n",
              "      filter: drop-shadow(0px 1px 2px rgba(0, 0, 0, 0.3));\n",
              "      fill: #FFFFFF;\n",
              "    }\n",
              "  </style>\n",
              "\n",
              "      <script>\n",
              "        const buttonEl =\n",
              "          document.querySelector('#df-5756bbec-620d-4a05-99fc-6fe4ff9841b6 button.colab-df-convert');\n",
              "        buttonEl.style.display =\n",
              "          google.colab.kernel.accessAllowed ? 'block' : 'none';\n",
              "\n",
              "        async function convertToInteractive(key) {\n",
              "          const element = document.querySelector('#df-5756bbec-620d-4a05-99fc-6fe4ff9841b6');\n",
              "          const dataTable =\n",
              "            await google.colab.kernel.invokeFunction('convertToInteractive',\n",
              "                                                     [key], {});\n",
              "          if (!dataTable) return;\n",
              "\n",
              "          const docLinkHtml = 'Like what you see? Visit the ' +\n",
              "            '<a target=\"_blank\" href=https://colab.research.google.com/notebooks/data_table.ipynb>data table notebook</a>'\n",
              "            + ' to learn more about interactive tables.';\n",
              "          element.innerHTML = '';\n",
              "          dataTable['output_type'] = 'display_data';\n",
              "          await google.colab.output.renderOutput(dataTable, element);\n",
              "          const docLink = document.createElement('div');\n",
              "          docLink.innerHTML = docLinkHtml;\n",
              "          element.appendChild(docLink);\n",
              "        }\n",
              "      </script>\n",
              "    </div>\n",
              "  </div>\n",
              "  "
            ]
          },
          "metadata": {},
          "execution_count": 26
        }
      ]
    },
    {
      "cell_type": "code",
      "source": [
        "movie_info_df = pd.DataFrame(data = [sum(list(user_movie_matrix.loc[int(x)].value_counts())[1:]) for x in user_movie_matrix.index],\n",
        "                           index = user_movie_matrix.index, columns=['users_rated'])"
      ],
      "metadata": {
        "id": "F1HN-QUIFoj7"
      },
      "execution_count": null,
      "outputs": []
    },
    {
      "cell_type": "code",
      "source": [
        "movie_info_df"
      ],
      "metadata": {
        "colab": {
          "base_uri": "https://localhost:8080/",
          "height": 455
        },
        "id": "7QvdR8tyFvGp",
        "outputId": "6ea1b3c9-8507-4c21-a006-71bdde7bfd93"
      },
      "execution_count": null,
      "outputs": [
        {
          "output_type": "execute_result",
          "data": {
            "text/plain": [
              "         users_rated\n",
              "movieId             \n",
              "1                215\n",
              "2                110\n",
              "3                 52\n",
              "4                  7\n",
              "5                 49\n",
              "...              ...\n",
              "193581             1\n",
              "193583             1\n",
              "193585             1\n",
              "193587             1\n",
              "193609             1\n",
              "\n",
              "[9724 rows x 1 columns]"
            ],
            "text/html": [
              "\n",
              "  <div id=\"df-d3cb2659-1eb5-48ba-a04f-44fe19e33116\">\n",
              "    <div class=\"colab-df-container\">\n",
              "      <div>\n",
              "<style scoped>\n",
              "    .dataframe tbody tr th:only-of-type {\n",
              "        vertical-align: middle;\n",
              "    }\n",
              "\n",
              "    .dataframe tbody tr th {\n",
              "        vertical-align: top;\n",
              "    }\n",
              "\n",
              "    .dataframe thead th {\n",
              "        text-align: right;\n",
              "    }\n",
              "</style>\n",
              "<table border=\"1\" class=\"dataframe\">\n",
              "  <thead>\n",
              "    <tr style=\"text-align: right;\">\n",
              "      <th></th>\n",
              "      <th>users_rated</th>\n",
              "    </tr>\n",
              "    <tr>\n",
              "      <th>movieId</th>\n",
              "      <th></th>\n",
              "    </tr>\n",
              "  </thead>\n",
              "  <tbody>\n",
              "    <tr>\n",
              "      <th>1</th>\n",
              "      <td>215</td>\n",
              "    </tr>\n",
              "    <tr>\n",
              "      <th>2</th>\n",
              "      <td>110</td>\n",
              "    </tr>\n",
              "    <tr>\n",
              "      <th>3</th>\n",
              "      <td>52</td>\n",
              "    </tr>\n",
              "    <tr>\n",
              "      <th>4</th>\n",
              "      <td>7</td>\n",
              "    </tr>\n",
              "    <tr>\n",
              "      <th>5</th>\n",
              "      <td>49</td>\n",
              "    </tr>\n",
              "    <tr>\n",
              "      <th>...</th>\n",
              "      <td>...</td>\n",
              "    </tr>\n",
              "    <tr>\n",
              "      <th>193581</th>\n",
              "      <td>1</td>\n",
              "    </tr>\n",
              "    <tr>\n",
              "      <th>193583</th>\n",
              "      <td>1</td>\n",
              "    </tr>\n",
              "    <tr>\n",
              "      <th>193585</th>\n",
              "      <td>1</td>\n",
              "    </tr>\n",
              "    <tr>\n",
              "      <th>193587</th>\n",
              "      <td>1</td>\n",
              "    </tr>\n",
              "    <tr>\n",
              "      <th>193609</th>\n",
              "      <td>1</td>\n",
              "    </tr>\n",
              "  </tbody>\n",
              "</table>\n",
              "<p>9724 rows × 1 columns</p>\n",
              "</div>\n",
              "      <button class=\"colab-df-convert\" onclick=\"convertToInteractive('df-d3cb2659-1eb5-48ba-a04f-44fe19e33116')\"\n",
              "              title=\"Convert this dataframe to an interactive table.\"\n",
              "              style=\"display:none;\">\n",
              "        \n",
              "  <svg xmlns=\"http://www.w3.org/2000/svg\" height=\"24px\"viewBox=\"0 0 24 24\"\n",
              "       width=\"24px\">\n",
              "    <path d=\"M0 0h24v24H0V0z\" fill=\"none\"/>\n",
              "    <path d=\"M18.56 5.44l.94 2.06.94-2.06 2.06-.94-2.06-.94-.94-2.06-.94 2.06-2.06.94zm-11 1L8.5 8.5l.94-2.06 2.06-.94-2.06-.94L8.5 2.5l-.94 2.06-2.06.94zm10 10l.94 2.06.94-2.06 2.06-.94-2.06-.94-.94-2.06-.94 2.06-2.06.94z\"/><path d=\"M17.41 7.96l-1.37-1.37c-.4-.4-.92-.59-1.43-.59-.52 0-1.04.2-1.43.59L10.3 9.45l-7.72 7.72c-.78.78-.78 2.05 0 2.83L4 21.41c.39.39.9.59 1.41.59.51 0 1.02-.2 1.41-.59l7.78-7.78 2.81-2.81c.8-.78.8-2.07 0-2.86zM5.41 20L4 18.59l7.72-7.72 1.47 1.35L5.41 20z\"/>\n",
              "  </svg>\n",
              "      </button>\n",
              "      \n",
              "  <style>\n",
              "    .colab-df-container {\n",
              "      display:flex;\n",
              "      flex-wrap:wrap;\n",
              "      gap: 12px;\n",
              "    }\n",
              "\n",
              "    .colab-df-convert {\n",
              "      background-color: #E8F0FE;\n",
              "      border: none;\n",
              "      border-radius: 50%;\n",
              "      cursor: pointer;\n",
              "      display: none;\n",
              "      fill: #1967D2;\n",
              "      height: 32px;\n",
              "      padding: 0 0 0 0;\n",
              "      width: 32px;\n",
              "    }\n",
              "\n",
              "    .colab-df-convert:hover {\n",
              "      background-color: #E2EBFA;\n",
              "      box-shadow: 0px 1px 2px rgba(60, 64, 67, 0.3), 0px 1px 3px 1px rgba(60, 64, 67, 0.15);\n",
              "      fill: #174EA6;\n",
              "    }\n",
              "\n",
              "    [theme=dark] .colab-df-convert {\n",
              "      background-color: #3B4455;\n",
              "      fill: #D2E3FC;\n",
              "    }\n",
              "\n",
              "    [theme=dark] .colab-df-convert:hover {\n",
              "      background-color: #434B5C;\n",
              "      box-shadow: 0px 1px 3px 1px rgba(0, 0, 0, 0.15);\n",
              "      filter: drop-shadow(0px 1px 2px rgba(0, 0, 0, 0.3));\n",
              "      fill: #FFFFFF;\n",
              "    }\n",
              "  </style>\n",
              "\n",
              "      <script>\n",
              "        const buttonEl =\n",
              "          document.querySelector('#df-d3cb2659-1eb5-48ba-a04f-44fe19e33116 button.colab-df-convert');\n",
              "        buttonEl.style.display =\n",
              "          google.colab.kernel.accessAllowed ? 'block' : 'none';\n",
              "\n",
              "        async function convertToInteractive(key) {\n",
              "          const element = document.querySelector('#df-d3cb2659-1eb5-48ba-a04f-44fe19e33116');\n",
              "          const dataTable =\n",
              "            await google.colab.kernel.invokeFunction('convertToInteractive',\n",
              "                                                     [key], {});\n",
              "          if (!dataTable) return;\n",
              "\n",
              "          const docLinkHtml = 'Like what you see? Visit the ' +\n",
              "            '<a target=\"_blank\" href=https://colab.research.google.com/notebooks/data_table.ipynb>data table notebook</a>'\n",
              "            + ' to learn more about interactive tables.';\n",
              "          element.innerHTML = '';\n",
              "          dataTable['output_type'] = 'display_data';\n",
              "          await google.colab.output.renderOutput(dataTable, element);\n",
              "          const docLink = document.createElement('div');\n",
              "          docLink.innerHTML = docLinkHtml;\n",
              "          element.appendChild(docLink);\n",
              "        }\n",
              "      </script>\n",
              "    </div>\n",
              "  </div>\n",
              "  "
            ]
          },
          "metadata": {},
          "execution_count": 28
        }
      ]
    },
    {
      "cell_type": "code",
      "source": [
        ""
      ],
      "metadata": {
        "id": "zJvQy_uAFzds"
      },
      "execution_count": null,
      "outputs": []
    },
    {
      "cell_type": "markdown",
      "source": [
        "### 학습"
      ],
      "metadata": {
        "id": "32eFY5PvF5Mj"
      }
    },
    {
      "cell_type": "markdown",
      "source": [
        "**데이터 나누기**\n"
      ],
      "metadata": {
        "id": "rALE9JO6GpyG"
      }
    },
    {
      "cell_type": "code",
      "source": [
        "train_df, test_df = train_test_split(ratings, test_size=0.2, random_state=1234)"
      ],
      "metadata": {
        "id": "VM5nT1gsF7eF"
      },
      "execution_count": null,
      "outputs": []
    },
    {
      "cell_type": "code",
      "source": [
        "print(train_df.shape)\n",
        "print(test_df.shape)"
      ],
      "metadata": {
        "colab": {
          "base_uri": "https://localhost:8080/"
        },
        "id": "SNIK3RuEGJVz",
        "outputId": "d04d1679-6187-4e99-ec12-a1f0c9128b9c"
      },
      "execution_count": null,
      "outputs": [
        {
          "output_type": "stream",
          "name": "stdout",
          "text": [
            "(80668, 4)\n",
            "(20168, 4)\n"
          ]
        }
      ]
    },
    {
      "cell_type": "code",
      "source": [
        ""
      ],
      "metadata": {
        "id": "ktchJFC7GPmd"
      },
      "execution_count": null,
      "outputs": []
    },
    {
      "cell_type": "markdown",
      "source": [
        "**test  set은 존재하지만 train set에는 없는 영화 혹은 사용자 비율**"
      ],
      "metadata": {
        "id": "5nrnMz9oGufv"
      }
    },
    {
      "cell_type": "code",
      "source": [
        "# 집합 A - 집합 B => 집합 B에는 없고 집합 A에만 있는 item \n",
        "\n",
        "# userId\n",
        "print(\"사용자: \",len(list(set(test_df['userId'].unique()) - set(train_df['userId'].unique()))))\n",
        "\n",
        "# movieId\n",
        "print(\"영화: \", len(list(set(test_df['movieId'].unique()) - set(train_df['movieId'].unique()))))\n",
        "print(\"test set의 전체 영화 수: \",  len(test_df['movieId'].unique()))"
      ],
      "metadata": {
        "colab": {
          "base_uri": "https://localhost:8080/"
        },
        "id": "ybE3HIIgGzD0",
        "outputId": "f7dd84f3-f27d-4b43-9070-697a6ce2f824"
      },
      "execution_count": null,
      "outputs": [
        {
          "output_type": "stream",
          "name": "stdout",
          "text": [
            "사용자:  0\n",
            "영화:  786\n",
            "test set의 전체 영화 수:  5171\n"
          ]
        }
      ]
    },
    {
      "cell_type": "code",
      "source": [
        "movies_not_included = list(set(test_df['movieId'].unique()) - set(train_df['movieId'].unique()))\n",
        "print(sorted(movies_not_included)[:10])\n",
        "\n",
        "not_included_df =  test_df[test_df.movieId.isin(movies_not_included)].sort_values(by = 'movieId')\n",
        "print(not_included_df.head(10))\n",
        "\n",
        "print('train set에 없고, test set에만 있는 영화 데이터 수: ', not_included_df.shape)"
      ],
      "metadata": {
        "colab": {
          "base_uri": "https://localhost:8080/"
        },
        "id": "4MtPcdPbNmXX",
        "outputId": "8554eeb5-6e63-4574-afcc-3001c2dd85ef"
      },
      "execution_count": null,
      "outputs": [
        {
          "output_type": "stream",
          "name": "stdout",
          "text": [
            "[49, 117, 137, 178, 241, 320, 359, 478, 488, 495]\n",
            "       userId  movieId  rating   timestamp\n",
            "29386     202       49     3.0   974925453\n",
            "97066     604      117     3.0   832080636\n",
            "99501     609      137     3.0   847221054\n",
            "27959     191      178     1.0   829760898\n",
            "98493     607      241     4.0   964744490\n",
            "96182     603      320     3.0   953925390\n",
            "728         6      359     3.0   845556412\n",
            "92825     599      478     2.5  1498515125\n",
            "73214     474      488     3.0  1047569232\n",
            "96218     603      495     5.0   953927108\n",
            "train set에 없고, test set에만 있는 영화 데이터 수:  (852, 4)\n"
          ]
        }
      ]
    },
    {
      "cell_type": "code",
      "source": [
        ""
      ],
      "metadata": {
        "id": "CYtXfCytRO6m"
      },
      "execution_count": null,
      "outputs": []
    },
    {
      "cell_type": "markdown",
      "source": [
        "## 간단한 추천 알고리즘 "
      ],
      "metadata": {
        "id": "T1uruhEFRYX8"
      }
    },
    {
      "cell_type": "markdown",
      "source": [
        "**1. 랜덤으로 평점 예측하기**\n",
        "\n",
        "**2. 영화 평균 평점기반 예측하기**\n",
        "\n",
        "**3. 사용자 평균 평점기반 예측하기**\n",
        "\n",
        "**4. Rule기반 영화 랭킹 예측하기**\n",
        "\n",
        "   - *test에 있고, train에 없는 경우*"
      ],
      "metadata": {
        "id": "qQ6kGWXdRjAS"
      }
    },
    {
      "cell_type": "code",
      "source": [
        ""
      ],
      "metadata": {
        "id": "nzEUaRIqRh3T"
      },
      "execution_count": null,
      "outputs": []
    },
    {
      "cell_type": "markdown",
      "source": [
        "### 랜덤으로 평점-예측하기"
      ],
      "metadata": {
        "id": "cS1R1dOLSnZE"
      }
    },
    {
      "cell_type": "code",
      "source": [
        "#0.5 ~ 5.0 사이의 숫자를 예측해야할 평점 수 만큼 generate\n",
        "\n",
        "ratings_range = np.arange(0.5,5.5,step = 0.5)\n",
        "ratings_range"
      ],
      "metadata": {
        "colab": {
          "base_uri": "https://localhost:8080/"
        },
        "id": "X54MZRp_SqHf",
        "outputId": "27e272fe-8afb-4975-c57d-2be99a43faac"
      },
      "execution_count": null,
      "outputs": [
        {
          "output_type": "execute_result",
          "data": {
            "text/plain": [
              "array([0.5, 1. , 1.5, 2. , 2.5, 3. , 3.5, 4. , 4.5, 5. ])"
            ]
          },
          "metadata": {},
          "execution_count": 34
        }
      ]
    },
    {
      "cell_type": "code",
      "source": [
        "import random\n",
        "pred_random = [random.choice(ratings_range) for x in range(len(test_df))]\n",
        "pred_random[:10]"
      ],
      "metadata": {
        "colab": {
          "base_uri": "https://localhost:8080/"
        },
        "id": "OQgJHkx-UsLD",
        "outputId": "d956ed6d-4958-4864-900d-dd1c08c95aeb"
      },
      "execution_count": null,
      "outputs": [
        {
          "output_type": "execute_result",
          "data": {
            "text/plain": [
              "[3.0, 1.0, 0.5, 0.5, 3.5, 3.5, 1.5, 1.5, 2.5, 5.0]"
            ]
          },
          "metadata": {},
          "execution_count": 35
        }
      ]
    },
    {
      "cell_type": "code",
      "source": [
        "test_df['pred_ratings_random'] = pred_random"
      ],
      "metadata": {
        "id": "QeG_X1LRU141"
      },
      "execution_count": null,
      "outputs": []
    },
    {
      "cell_type": "code",
      "source": [
        "mse  = mean_squared_error(y_true = test_df['rating'].values, y_pred = test_df['pred_ratings_random'].values)\n",
        "rmse = np.sqrt(mse)\n",
        "\n",
        "print(mse, rmse)"
      ],
      "metadata": {
        "colab": {
          "base_uri": "https://localhost:8080/"
        },
        "id": "mg6L9yFqU2IK",
        "outputId": "92e3403e-ebf4-43d4-fbf0-b4ec58faf316"
      },
      "execution_count": null,
      "outputs": [
        {
          "output_type": "stream",
          "name": "stdout",
          "text": [
            "3.7130726894089645 1.9269334937690414\n"
          ]
        }
      ]
    },
    {
      "cell_type": "markdown",
      "source": [
        "### 영화 평균 평정기반 예측하기"
      ],
      "metadata": {
        "id": "JcI6o4NOVWtp"
      }
    },
    {
      "cell_type": "markdown",
      "source": [
        "**train set의 모든 영화에 대한 평점 구하기**\n",
        "\n",
        "**test set예측 시, train set의 영화 평균 평점 활용하기, 만약 없다면 random선택**"
      ],
      "metadata": {
        "id": "xM3wTMCgVb7I"
      }
    },
    {
      "cell_type": "code",
      "source": [
        "\n",
        "\n",
        "#train set의 모든 영화 평점 구하기\n",
        "train_movie_df = train_df.groupby('movieId').mean()\n",
        "\n",
        "print(train_movie_df.shape)\n",
        "print(train_movie_df.head())"
      ],
      "metadata": {
        "colab": {
          "base_uri": "https://localhost:8080/"
        },
        "id": "LhXlm5HqVash",
        "outputId": "3bdb5f57-89ff-41bb-942d-f43f74844b53"
      },
      "execution_count": null,
      "outputs": [
        {
          "output_type": "stream",
          "name": "stdout",
          "text": [
            "(8938, 3)\n",
            "             userId    rating     timestamp\n",
            "movieId                                    \n",
            "1        307.473373  3.893491  1.128439e+09\n",
            "2        327.475610  3.396341  1.142893e+09\n",
            "3        266.386364  3.454545  9.900434e+08\n",
            "4        192.750000  2.250000  8.425133e+08\n",
            "5        309.526316  3.039474  1.007415e+09\n"
          ]
        }
      ]
    },
    {
      "cell_type": "code",
      "source": [
        "#test set예측 시, train set의 영화 평균 평점 활용하기, 만약 없다면 random선택\n",
        "def avg_rating_prediction(training_set, x):\n",
        "    if x in training_set.index:\n",
        "        pred_rating = training_set.loc[x]['rating']\n",
        "    else:\n",
        "        pred_rating = random.choice(ratings_range)\n",
        "    return pred_rating"
      ],
      "metadata": {
        "id": "dIbc4woaV85h"
      },
      "execution_count": null,
      "outputs": []
    },
    {
      "cell_type": "code",
      "source": [
        "#test데이터에 평균평점 추가\n",
        "\n",
        "test_df['pred_rating_movies'] = test_df['movieId'].apply(lambda x: avg_rating_prediction(train_movie_df,x))\n",
        "test_df.head()"
      ],
      "metadata": {
        "colab": {
          "base_uri": "https://localhost:8080/",
          "height": 206
        },
        "id": "n811flUJXE6u",
        "outputId": "3c959edc-3323-492f-c07b-b7526fbb92ab"
      },
      "execution_count": null,
      "outputs": [
        {
          "output_type": "execute_result",
          "data": {
            "text/plain": [
              "       userId  movieId  rating   timestamp  pred_ratings_random  \\\n",
              "99731     610     3527     5.0  1479545223                  3.0   \n",
              "97583     606     1250     3.5  1171376891                  1.0   \n",
              "38197     262      213     5.0   840310907                  0.5   \n",
              "11474      68    69406     3.0  1261622505                  0.5   \n",
              "34105     232     4728     3.0  1218166950                  3.5   \n",
              "\n",
              "       pred_rating_movies  \n",
              "99731            3.604167  \n",
              "97583            4.180556  \n",
              "38197            3.750000  \n",
              "11474            3.571429  \n",
              "34105            2.769231  "
            ],
            "text/html": [
              "\n",
              "  <div id=\"df-13531815-28fb-4028-92d2-9cb6f0f26209\">\n",
              "    <div class=\"colab-df-container\">\n",
              "      <div>\n",
              "<style scoped>\n",
              "    .dataframe tbody tr th:only-of-type {\n",
              "        vertical-align: middle;\n",
              "    }\n",
              "\n",
              "    .dataframe tbody tr th {\n",
              "        vertical-align: top;\n",
              "    }\n",
              "\n",
              "    .dataframe thead th {\n",
              "        text-align: right;\n",
              "    }\n",
              "</style>\n",
              "<table border=\"1\" class=\"dataframe\">\n",
              "  <thead>\n",
              "    <tr style=\"text-align: right;\">\n",
              "      <th></th>\n",
              "      <th>userId</th>\n",
              "      <th>movieId</th>\n",
              "      <th>rating</th>\n",
              "      <th>timestamp</th>\n",
              "      <th>pred_ratings_random</th>\n",
              "      <th>pred_rating_movies</th>\n",
              "    </tr>\n",
              "  </thead>\n",
              "  <tbody>\n",
              "    <tr>\n",
              "      <th>99731</th>\n",
              "      <td>610</td>\n",
              "      <td>3527</td>\n",
              "      <td>5.0</td>\n",
              "      <td>1479545223</td>\n",
              "      <td>3.0</td>\n",
              "      <td>3.604167</td>\n",
              "    </tr>\n",
              "    <tr>\n",
              "      <th>97583</th>\n",
              "      <td>606</td>\n",
              "      <td>1250</td>\n",
              "      <td>3.5</td>\n",
              "      <td>1171376891</td>\n",
              "      <td>1.0</td>\n",
              "      <td>4.180556</td>\n",
              "    </tr>\n",
              "    <tr>\n",
              "      <th>38197</th>\n",
              "      <td>262</td>\n",
              "      <td>213</td>\n",
              "      <td>5.0</td>\n",
              "      <td>840310907</td>\n",
              "      <td>0.5</td>\n",
              "      <td>3.750000</td>\n",
              "    </tr>\n",
              "    <tr>\n",
              "      <th>11474</th>\n",
              "      <td>68</td>\n",
              "      <td>69406</td>\n",
              "      <td>3.0</td>\n",
              "      <td>1261622505</td>\n",
              "      <td>0.5</td>\n",
              "      <td>3.571429</td>\n",
              "    </tr>\n",
              "    <tr>\n",
              "      <th>34105</th>\n",
              "      <td>232</td>\n",
              "      <td>4728</td>\n",
              "      <td>3.0</td>\n",
              "      <td>1218166950</td>\n",
              "      <td>3.5</td>\n",
              "      <td>2.769231</td>\n",
              "    </tr>\n",
              "  </tbody>\n",
              "</table>\n",
              "</div>\n",
              "      <button class=\"colab-df-convert\" onclick=\"convertToInteractive('df-13531815-28fb-4028-92d2-9cb6f0f26209')\"\n",
              "              title=\"Convert this dataframe to an interactive table.\"\n",
              "              style=\"display:none;\">\n",
              "        \n",
              "  <svg xmlns=\"http://www.w3.org/2000/svg\" height=\"24px\"viewBox=\"0 0 24 24\"\n",
              "       width=\"24px\">\n",
              "    <path d=\"M0 0h24v24H0V0z\" fill=\"none\"/>\n",
              "    <path d=\"M18.56 5.44l.94 2.06.94-2.06 2.06-.94-2.06-.94-.94-2.06-.94 2.06-2.06.94zm-11 1L8.5 8.5l.94-2.06 2.06-.94-2.06-.94L8.5 2.5l-.94 2.06-2.06.94zm10 10l.94 2.06.94-2.06 2.06-.94-2.06-.94-.94-2.06-.94 2.06-2.06.94z\"/><path d=\"M17.41 7.96l-1.37-1.37c-.4-.4-.92-.59-1.43-.59-.52 0-1.04.2-1.43.59L10.3 9.45l-7.72 7.72c-.78.78-.78 2.05 0 2.83L4 21.41c.39.39.9.59 1.41.59.51 0 1.02-.2 1.41-.59l7.78-7.78 2.81-2.81c.8-.78.8-2.07 0-2.86zM5.41 20L4 18.59l7.72-7.72 1.47 1.35L5.41 20z\"/>\n",
              "  </svg>\n",
              "      </button>\n",
              "      \n",
              "  <style>\n",
              "    .colab-df-container {\n",
              "      display:flex;\n",
              "      flex-wrap:wrap;\n",
              "      gap: 12px;\n",
              "    }\n",
              "\n",
              "    .colab-df-convert {\n",
              "      background-color: #E8F0FE;\n",
              "      border: none;\n",
              "      border-radius: 50%;\n",
              "      cursor: pointer;\n",
              "      display: none;\n",
              "      fill: #1967D2;\n",
              "      height: 32px;\n",
              "      padding: 0 0 0 0;\n",
              "      width: 32px;\n",
              "    }\n",
              "\n",
              "    .colab-df-convert:hover {\n",
              "      background-color: #E2EBFA;\n",
              "      box-shadow: 0px 1px 2px rgba(60, 64, 67, 0.3), 0px 1px 3px 1px rgba(60, 64, 67, 0.15);\n",
              "      fill: #174EA6;\n",
              "    }\n",
              "\n",
              "    [theme=dark] .colab-df-convert {\n",
              "      background-color: #3B4455;\n",
              "      fill: #D2E3FC;\n",
              "    }\n",
              "\n",
              "    [theme=dark] .colab-df-convert:hover {\n",
              "      background-color: #434B5C;\n",
              "      box-shadow: 0px 1px 3px 1px rgba(0, 0, 0, 0.15);\n",
              "      filter: drop-shadow(0px 1px 2px rgba(0, 0, 0, 0.3));\n",
              "      fill: #FFFFFF;\n",
              "    }\n",
              "  </style>\n",
              "\n",
              "      <script>\n",
              "        const buttonEl =\n",
              "          document.querySelector('#df-13531815-28fb-4028-92d2-9cb6f0f26209 button.colab-df-convert');\n",
              "        buttonEl.style.display =\n",
              "          google.colab.kernel.accessAllowed ? 'block' : 'none';\n",
              "\n",
              "        async function convertToInteractive(key) {\n",
              "          const element = document.querySelector('#df-13531815-28fb-4028-92d2-9cb6f0f26209');\n",
              "          const dataTable =\n",
              "            await google.colab.kernel.invokeFunction('convertToInteractive',\n",
              "                                                     [key], {});\n",
              "          if (!dataTable) return;\n",
              "\n",
              "          const docLinkHtml = 'Like what you see? Visit the ' +\n",
              "            '<a target=\"_blank\" href=https://colab.research.google.com/notebooks/data_table.ipynb>data table notebook</a>'\n",
              "            + ' to learn more about interactive tables.';\n",
              "          element.innerHTML = '';\n",
              "          dataTable['output_type'] = 'display_data';\n",
              "          await google.colab.output.renderOutput(dataTable, element);\n",
              "          const docLink = document.createElement('div');\n",
              "          docLink.innerHTML = docLinkHtml;\n",
              "          element.appendChild(docLink);\n",
              "        }\n",
              "      </script>\n",
              "    </div>\n",
              "  </div>\n",
              "  "
            ]
          },
          "metadata": {},
          "execution_count": 40
        }
      ]
    },
    {
      "cell_type": "code",
      "source": [
        "mse = mean_squared_error(y_true=test_df['rating'].values, y_pred=test_df['pred_rating_movies'].values)\n",
        "rmse = np.sqrt(mse)\n",
        "\n",
        "print(mse, rmse)"
      ],
      "metadata": {
        "colab": {
          "base_uri": "https://localhost:8080/"
        },
        "id": "V2_V7TseYTW3",
        "outputId": "95de11b6-00fd-4728-e66a-b3c1862ef131"
      },
      "execution_count": null,
      "outputs": [
        {
          "output_type": "stream",
          "name": "stdout",
          "text": [
            "1.0569790927916989 1.028094885111145\n"
          ]
        }
      ]
    },
    {
      "cell_type": "code",
      "source": [
        ""
      ],
      "metadata": {
        "id": "u7_qk1R6XoYx"
      },
      "execution_count": null,
      "outputs": []
    },
    {
      "cell_type": "markdown",
      "source": [
        "### 사용자 평균 기반 예측하기"
      ],
      "metadata": {
        "id": "r_I2xfGAYUW2"
      }
    },
    {
      "cell_type": "markdown",
      "source": [
        "**train set의 모든 유저가 준 평균 평점**\n",
        "\n",
        "**test set예측할 때, 유저가 train set에서 준 평균 평점을 활용**\n",
        "\n",
        "**유저가 없을 경우 random 평점 적용**"
      ],
      "metadata": {
        "id": "anuXcTHnYXVm"
      }
    },
    {
      "cell_type": "code",
      "source": [
        "train_user_df = train_df.groupby('userId').mean()\n",
        "\n",
        "print(train_user_df.shape)\n",
        "print(train_user_df.head())"
      ],
      "metadata": {
        "colab": {
          "base_uri": "https://localhost:8080/"
        },
        "id": "Cz8WBCMmYWwg",
        "outputId": "21b8dffb-f604-4cc3-c0dc-a41fef86aa79"
      },
      "execution_count": null,
      "outputs": [
        {
          "output_type": "stream",
          "name": "stdout",
          "text": [
            "(610, 3)\n",
            "             movieId    rating     timestamp\n",
            "userId                                      \n",
            "1        1891.168478  4.320652  9.649865e+08\n",
            "2       70402.760000  3.940000  1.445715e+09\n",
            "3        8394.733333  2.516667  1.306464e+09\n",
            "4        1957.923077  3.631868  9.655941e+08\n",
            "5         337.606061  3.636364  8.474351e+08\n"
          ]
        }
      ]
    },
    {
      "cell_type": "code",
      "source": [
        "test_df['pred_rating_user'] = test_df['userId'].apply(lambda x: avg_rating_prediction(train_user_df, x))\n",
        "\n",
        "test_df.head()"
      ],
      "metadata": {
        "colab": {
          "base_uri": "https://localhost:8080/",
          "height": 250
        },
        "id": "7jgbhtiKYsFE",
        "outputId": "16cea855-16e2-4461-bee1-c0e2614f53ed"
      },
      "execution_count": null,
      "outputs": [
        {
          "output_type": "execute_result",
          "data": {
            "text/plain": [
              "       userId  movieId  rating   timestamp  pred_ratings_random  \\\n",
              "99731     610     3527     5.0  1479545223                  3.0   \n",
              "97583     606     1250     3.5  1171376891                  1.0   \n",
              "38197     262      213     5.0   840310907                  0.5   \n",
              "11474      68    69406     3.0  1261622505                  0.5   \n",
              "34105     232     4728     3.0  1218166950                  3.5   \n",
              "\n",
              "       pred_rating_movies  pred_rating_user  \n",
              "99731            3.604167          3.678709  \n",
              "97583            4.180556          3.649718  \n",
              "38197            3.750000          2.925000  \n",
              "11474            3.571429          3.229331  \n",
              "34105            2.769231          3.242268  "
            ],
            "text/html": [
              "\n",
              "  <div id=\"df-a3c702e3-79ec-4e14-8dd1-42e6d25af3d6\">\n",
              "    <div class=\"colab-df-container\">\n",
              "      <div>\n",
              "<style scoped>\n",
              "    .dataframe tbody tr th:only-of-type {\n",
              "        vertical-align: middle;\n",
              "    }\n",
              "\n",
              "    .dataframe tbody tr th {\n",
              "        vertical-align: top;\n",
              "    }\n",
              "\n",
              "    .dataframe thead th {\n",
              "        text-align: right;\n",
              "    }\n",
              "</style>\n",
              "<table border=\"1\" class=\"dataframe\">\n",
              "  <thead>\n",
              "    <tr style=\"text-align: right;\">\n",
              "      <th></th>\n",
              "      <th>userId</th>\n",
              "      <th>movieId</th>\n",
              "      <th>rating</th>\n",
              "      <th>timestamp</th>\n",
              "      <th>pred_ratings_random</th>\n",
              "      <th>pred_rating_movies</th>\n",
              "      <th>pred_rating_user</th>\n",
              "    </tr>\n",
              "  </thead>\n",
              "  <tbody>\n",
              "    <tr>\n",
              "      <th>99731</th>\n",
              "      <td>610</td>\n",
              "      <td>3527</td>\n",
              "      <td>5.0</td>\n",
              "      <td>1479545223</td>\n",
              "      <td>3.0</td>\n",
              "      <td>3.604167</td>\n",
              "      <td>3.678709</td>\n",
              "    </tr>\n",
              "    <tr>\n",
              "      <th>97583</th>\n",
              "      <td>606</td>\n",
              "      <td>1250</td>\n",
              "      <td>3.5</td>\n",
              "      <td>1171376891</td>\n",
              "      <td>1.0</td>\n",
              "      <td>4.180556</td>\n",
              "      <td>3.649718</td>\n",
              "    </tr>\n",
              "    <tr>\n",
              "      <th>38197</th>\n",
              "      <td>262</td>\n",
              "      <td>213</td>\n",
              "      <td>5.0</td>\n",
              "      <td>840310907</td>\n",
              "      <td>0.5</td>\n",
              "      <td>3.750000</td>\n",
              "      <td>2.925000</td>\n",
              "    </tr>\n",
              "    <tr>\n",
              "      <th>11474</th>\n",
              "      <td>68</td>\n",
              "      <td>69406</td>\n",
              "      <td>3.0</td>\n",
              "      <td>1261622505</td>\n",
              "      <td>0.5</td>\n",
              "      <td>3.571429</td>\n",
              "      <td>3.229331</td>\n",
              "    </tr>\n",
              "    <tr>\n",
              "      <th>34105</th>\n",
              "      <td>232</td>\n",
              "      <td>4728</td>\n",
              "      <td>3.0</td>\n",
              "      <td>1218166950</td>\n",
              "      <td>3.5</td>\n",
              "      <td>2.769231</td>\n",
              "      <td>3.242268</td>\n",
              "    </tr>\n",
              "  </tbody>\n",
              "</table>\n",
              "</div>\n",
              "      <button class=\"colab-df-convert\" onclick=\"convertToInteractive('df-a3c702e3-79ec-4e14-8dd1-42e6d25af3d6')\"\n",
              "              title=\"Convert this dataframe to an interactive table.\"\n",
              "              style=\"display:none;\">\n",
              "        \n",
              "  <svg xmlns=\"http://www.w3.org/2000/svg\" height=\"24px\"viewBox=\"0 0 24 24\"\n",
              "       width=\"24px\">\n",
              "    <path d=\"M0 0h24v24H0V0z\" fill=\"none\"/>\n",
              "    <path d=\"M18.56 5.44l.94 2.06.94-2.06 2.06-.94-2.06-.94-.94-2.06-.94 2.06-2.06.94zm-11 1L8.5 8.5l.94-2.06 2.06-.94-2.06-.94L8.5 2.5l-.94 2.06-2.06.94zm10 10l.94 2.06.94-2.06 2.06-.94-2.06-.94-.94-2.06-.94 2.06-2.06.94z\"/><path d=\"M17.41 7.96l-1.37-1.37c-.4-.4-.92-.59-1.43-.59-.52 0-1.04.2-1.43.59L10.3 9.45l-7.72 7.72c-.78.78-.78 2.05 0 2.83L4 21.41c.39.39.9.59 1.41.59.51 0 1.02-.2 1.41-.59l7.78-7.78 2.81-2.81c.8-.78.8-2.07 0-2.86zM5.41 20L4 18.59l7.72-7.72 1.47 1.35L5.41 20z\"/>\n",
              "  </svg>\n",
              "      </button>\n",
              "      \n",
              "  <style>\n",
              "    .colab-df-container {\n",
              "      display:flex;\n",
              "      flex-wrap:wrap;\n",
              "      gap: 12px;\n",
              "    }\n",
              "\n",
              "    .colab-df-convert {\n",
              "      background-color: #E8F0FE;\n",
              "      border: none;\n",
              "      border-radius: 50%;\n",
              "      cursor: pointer;\n",
              "      display: none;\n",
              "      fill: #1967D2;\n",
              "      height: 32px;\n",
              "      padding: 0 0 0 0;\n",
              "      width: 32px;\n",
              "    }\n",
              "\n",
              "    .colab-df-convert:hover {\n",
              "      background-color: #E2EBFA;\n",
              "      box-shadow: 0px 1px 2px rgba(60, 64, 67, 0.3), 0px 1px 3px 1px rgba(60, 64, 67, 0.15);\n",
              "      fill: #174EA6;\n",
              "    }\n",
              "\n",
              "    [theme=dark] .colab-df-convert {\n",
              "      background-color: #3B4455;\n",
              "      fill: #D2E3FC;\n",
              "    }\n",
              "\n",
              "    [theme=dark] .colab-df-convert:hover {\n",
              "      background-color: #434B5C;\n",
              "      box-shadow: 0px 1px 3px 1px rgba(0, 0, 0, 0.15);\n",
              "      filter: drop-shadow(0px 1px 2px rgba(0, 0, 0, 0.3));\n",
              "      fill: #FFFFFF;\n",
              "    }\n",
              "  </style>\n",
              "\n",
              "      <script>\n",
              "        const buttonEl =\n",
              "          document.querySelector('#df-a3c702e3-79ec-4e14-8dd1-42e6d25af3d6 button.colab-df-convert');\n",
              "        buttonEl.style.display =\n",
              "          google.colab.kernel.accessAllowed ? 'block' : 'none';\n",
              "\n",
              "        async function convertToInteractive(key) {\n",
              "          const element = document.querySelector('#df-a3c702e3-79ec-4e14-8dd1-42e6d25af3d6');\n",
              "          const dataTable =\n",
              "            await google.colab.kernel.invokeFunction('convertToInteractive',\n",
              "                                                     [key], {});\n",
              "          if (!dataTable) return;\n",
              "\n",
              "          const docLinkHtml = 'Like what you see? Visit the ' +\n",
              "            '<a target=\"_blank\" href=https://colab.research.google.com/notebooks/data_table.ipynb>data table notebook</a>'\n",
              "            + ' to learn more about interactive tables.';\n",
              "          element.innerHTML = '';\n",
              "          dataTable['output_type'] = 'display_data';\n",
              "          await google.colab.output.renderOutput(dataTable, element);\n",
              "          const docLink = document.createElement('div');\n",
              "          docLink.innerHTML = docLinkHtml;\n",
              "          element.appendChild(docLink);\n",
              "        }\n",
              "      </script>\n",
              "    </div>\n",
              "  </div>\n",
              "  "
            ]
          },
          "metadata": {},
          "execution_count": 45
        }
      ]
    },
    {
      "cell_type": "code",
      "source": [
        "mse = mean_squared_error(y_true=test_df['rating'].values, y_pred=test_df['pred_rating_user'].values)\n",
        "rmse = np.sqrt(mse)\n",
        "\n",
        "print(mse, rmse)"
      ],
      "metadata": {
        "colab": {
          "base_uri": "https://localhost:8080/"
        },
        "id": "nhKprSxNYsPg",
        "outputId": "98caedc0-f7e7-4238-9686-4dc534f483ff"
      },
      "execution_count": null,
      "outputs": [
        {
          "output_type": "stream",
          "name": "stdout",
          "text": [
            "0.8905889036428333 0.9437101798978504\n"
          ]
        }
      ]
    },
    {
      "cell_type": "markdown",
      "source": [
        "### Rule 기반 영화 평점 예측"
      ],
      "metadata": {
        "id": "0bswHJZLY4By"
      }
    },
    {
      "cell_type": "markdown",
      "source": [
        "**train set에 포함된 유저의 영화 평균 평점과 영화의 장르를 활용하여, 장르별 평균 평점 계산 -> test set의 영화 장르의 평균 평점으로 예측**"
      ],
      "metadata": {
        "id": "s8vl108xY9tO"
      }
    },
    {
      "cell_type": "code",
      "source": [
        "train_user_movie_matrix = train_df.pivot(\n",
        "    index='movieId',\n",
        "    columns='userId',\n",
        "    values='rating'\n",
        ").fillna(0)"
      ],
      "metadata": {
        "id": "uU_QfCA3YsRY"
      },
      "execution_count": null,
      "outputs": []
    },
    {
      "cell_type": "code",
      "source": [
        "train_user_movie_matrix\n"
      ],
      "metadata": {
        "id": "tQuR3_UBYsTK"
      },
      "execution_count": null,
      "outputs": []
    },
    {
      "cell_type": "code",
      "source": [
        "genres_df = movies['genres'].str.get_dummies(sep='|')\n",
        "print(genres_df.shape)\n",
        "genres_df = genres_df.loc[train_df.movieId.unique()]\n",
        "print(genres_df.shape)\n",
        "genres_df.head()"
      ],
      "metadata": {
        "id": "kmCk_di1YsVK"
      },
      "execution_count": null,
      "outputs": []
    },
    {
      "cell_type": "code",
      "source": [
        "movies['genres']"
      ],
      "metadata": {
        "id": "seIKHGMfzJm5"
      },
      "execution_count": null,
      "outputs": []
    },
    {
      "cell_type": "code",
      "source": [
        "# trainset에서 영화별 유저 평점 평균\n",
        "train_movie_avg_ratings_df = train_user_movie_matrix.copy()\n",
        "train_movie_avg_ratings_df = train_movie_avg_ratings_df.replace(0, np.NaN)\n",
        "train_movie_avg_ratings_df = train_movie_avg_ratings_df.mean(axis = 1)\n",
        "\n",
        "train_movie_avg_ratings_df.head()"
      ],
      "metadata": {
        "id": "L0b0ea48YsXS"
      },
      "execution_count": null,
      "outputs": []
    },
    {
      "cell_type": "code",
      "source": [
        "#genres_df에서 해당 장르가 포함된 모든 영화 index를 가져와서, , 해당 영화의 유저 평균 평점의 평균을 구해서 장르 평균 평점으로 활용\n",
        "#예시: user가 영화에 준 평점이 있을 때, 그때의 영화 장르들의 평점이 곧 영화 평점\n",
        "genres_avg_ratings_df = pd.DataFrame(index=genres_df.columns, columns=['avg_ratings'])\n",
        "\n",
        "for genre in genres_avg_ratings_df.index:\n",
        "    genre_avg_rating = train_movie_avg_ratings_df.loc[genres_df[genres_df[genre].isin([1])].index].mean()\n",
        "    genres_avg_rating_df.loc[genre]['avg_ratings'] = genre_avg_rating\n",
        "\n",
        "genres_avg_ratings_df"
      ],
      "metadata": {
        "id": "McKE2sWaYsaI"
      },
      "execution_count": null,
      "outputs": []
    },
    {
      "cell_type": "code",
      "source": [
        "def get_genre_avg_ratings(x):\n",
        "    genres_list = movies_df.loc[x]['genres'].split('|')\n",
        "    rating = 0\n",
        "    for genre in genres_list:\n",
        "        rating += genres_avg_ratings_df.loc[genre]['avg_ratings']\n",
        "\n",
        "    return rating / len(genres_list)"
      ],
      "metadata": {
        "id": "pVCzFnLKaxYk"
      },
      "execution_count": null,
      "outputs": []
    },
    {
      "cell_type": "code",
      "source": [
        "tqdm.pandas()\n",
        "test_df['pred_rating_genre'] =  test_df['movieId'].progress_apply(lambda x: get_genre_avg_rating(x))"
      ],
      "metadata": {
        "id": "TjC2udH9axcD"
      },
      "execution_count": null,
      "outputs": []
    },
    {
      "cell_type": "code",
      "source": [
        "test_df"
      ],
      "metadata": {
        "id": "YlKz0gAqaxv2"
      },
      "execution_count": null,
      "outputs": []
    },
    {
      "cell_type": "code",
      "source": [
        "mse = mean_squared_error(y_true=test_df['rating'].values, y_pred=test_df['pred_rating_genre'].values)\n",
        "rmse = np.sqrt(mse)\n",
        "\n",
        "print(mse, rmse)"
      ],
      "metadata": {
        "id": "we_Ck8rfthyH"
      },
      "execution_count": null,
      "outputs": []
    },
    {
      "cell_type": "markdown",
      "source": [
        "## Rule 기반 영화 평점 예측하기\n",
        "\n",
        "**user의 평균 영화 평점을 normalize해서 확인하기, 평점 측정 수 표준편차 활용 가능**"
      ],
      "metadata": {
        "id": "-UweR6_2tkto"
      }
    },
    {
      "cell_type": "code",
      "source": [
        "train_user_info_df = pd.DataFrame({\n",
        "    'avg_ratings': train_df.groupby('userId')['rating'].mean(),\n",
        "    'std_ratings': train_df.groupby('userId')['rating'].std(),\n",
        "    'count_ratings': train_df.groupby('userId')['rating'].count()\n",
        "})\n",
        "\n",
        "train_user_info_df"
      ],
      "metadata": {
        "id": "RvsXgEF0tsZ6"
      },
      "execution_count": null,
      "outputs": []
    },
    {
      "cell_type": "code",
      "source": [
        "min_count = train_user_info_df['count_ratings'].min()\n",
        "max_count = train_user_info_df['count_ratings'].max()\n",
        "avg_count = train_user_info_df['count_ratings'].mean()\n",
        "\n",
        "train_user_info_df['weights'] = train_user_info_df['count_ratings'].apply(lambda x: (x-avg_count)/(max_count-min_count))"
      ],
      "metadata": {
        "id": "3WzoFUG_uWoH"
      },
      "execution_count": null,
      "outputs": []
    },
    {
      "cell_type": "code",
      "source": [
        "train_user_info_df"
      ],
      "metadata": {
        "id": "f8EPGLShv037"
      },
      "execution_count": null,
      "outputs": []
    },
    {
      "cell_type": "code",
      "source": [
        "from sklearn import preprocessing\n",
        "\n",
        "min_max_scaler = preprocessing.MinMaxScaler()\n",
        "np_scaled = min_max_scaler.fit_transform(train_user_info_df)\n"
      ],
      "metadata": {
        "id": "hnrY5uEiv0-L"
      },
      "execution_count": null,
      "outputs": []
    },
    {
      "cell_type": "code",
      "source": [
        "df_normalized = pd.DataFrame(np_scaled, columns = train_user_info_df.columns, index = train_user_info_df.index)\n",
        "df_normalized"
      ],
      "metadata": {
        "id": "vritce70wjQy"
      },
      "execution_count": null,
      "outputs": []
    },
    {
      "cell_type": "code",
      "source": [
        "df_normalized['normalized_avg_ratings'] = df_normalized['avg_ratings'] * 5\n",
        "df_normalized"
      ],
      "metadata": {
        "id": "6JLiAVeJyLpB"
      },
      "execution_count": null,
      "outputs": []
    },
    {
      "cell_type": "code",
      "source": [
        "test_df['pred_rating_normalized'] = test_df['userId'].apply(lambda x: df_normalized.loc[x]['normalized_avg_ratings'])\n",
        "test_df"
      ],
      "metadata": {
        "id": "uATQu0JXxWar"
      },
      "execution_count": null,
      "outputs": []
    },
    {
      "cell_type": "code",
      "source": [
        "mse = mean_squared_error(y_true=test_df['rating'].values, y_pred=test_df['pred_rating_normalized'].values)\n",
        "rmse = np.sqrt(mse)\n",
        "\n",
        "print(mse, rmse)"
      ],
      "metadata": {
        "id": "tZTFNWx7xWlo"
      },
      "execution_count": null,
      "outputs": []
    }
  ]
}