{
  "nbformat": 4,
  "nbformat_minor": 0,
  "metadata": {
    "colab": {
      "name": "추천시스템의 간략한 개념 정리",
      "provenance": [],
      "authorship_tag": "ABX9TyMOpBpGEPsz8uFgIbmPoQ8A"
    },
    "kernelspec": {
      "name": "python3",
      "display_name": "Python 3"
    },
    "language_info": {
      "name": "python"
    }
  },
  "cells": [
    {
      "cell_type": "markdown",
      "source": [
        "# 추천시스템"
      ],
      "metadata": {
        "id": "qWijell4rfXO"
      }
    },
    {
      "cell_type": "markdown",
      "source": [
        "## intro\n",
        "\n",
        "**추천시스템이란?**\n",
        "\n",
        "- 사용자와 상품으로 구성된 시스템\n",
        "\n",
        "   - 특정 사용자가 좋아할 상품을 추천\n",
        "\n",
        "   - 비슷한 상품을 좋아할 사용자에게 추천\n",
        "\n",
        "\n",
        "<br>\n",
        "\n",
        "**목적**\n",
        "\n",
        "   - item이던 User던 관심 갖을만한 정보를 추천한다.\n",
        "\n",
        "   - 사용자가 정보를 수집하고 찾는 시간을 줄여준다.\n",
        "\n",
        "<br>\n",
        "\n",
        "**상황**\n",
        "\n",
        "- 서비스의 성장과 정보의 다양화\n",
        "\n",
        "- 인턴넷에서 찾을 수 있는 정보가 많지만 시간이 오래 걸린다.\n",
        "\n",
        "<br>\n",
        "\n",
        "\n",
        "\n",
        "\n",
        "\n",
        "**혼동할 수 있는 개념**\n",
        "\n",
        "- 검색 서비스\n",
        "\n",
        "   - Pull information\n",
        "   - 사용자가 요구한 후 작동\n",
        "   - 사용자 스스로 원하는 바를 알고 있다.\n",
        "\n",
        "\n",
        "- 추천 서비스\n",
        "\n",
        "   - Push information\n",
        "\n",
        "   - 사용자가 요구하기 전에 작동\n",
        "\n",
        "   - 사용자 스스로 원하는 바를 정확히 알지 못한다.\n",
        "\n",
        "<br>\n",
        "\n",
        "**추천점수**\n",
        "\n",
        "- 분석된 사용자와 아이템 정보를 바탕으로 추천점수 계산\n",
        "\n",
        "- 사용자 혹은 아이템 프로필에서 어떤 정보를 사용할지에 따라서 추천 알고리즘 결정\n",
        "\n",
        "- 사용자 또는 아이템을 추천하기 위해서 각각의 아이템 또는 사용자에 대한 정량화된 기준이 필요하다\n",
        "\n",
        "- 추천 알고리즘의 목적은 점수화(Scoring)\n",
        "\n",
        "![image.png](data:image/png;base64,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)\n",
        "\n"
      ],
      "metadata": {
        "id": "i9c_sBWtriOy"
      }
    },
    {
      "cell_type": "code",
      "source": [
        ""
      ],
      "metadata": {
        "id": "iDhjCCy4t9jX"
      },
      "execution_count": null,
      "outputs": []
    },
    {
      "cell_type": "markdown",
      "source": [
        "### 사용자 프로필\n",
        "\n",
        "- 사용자 또는 사용자 그룹을 분석 가능한 요소로 Profiling\n",
        "\n",
        "- 사용자를 구분할 수 있는 정보 활용\n",
        "\n",
        "   - 사용자 ID(나이,성별,지역,학력..등등)\n",
        "\n",
        "   - 쿠키\n",
        "\n",
        "   - 인터넷 주소\n",
        "\n",
        "   - 웹페이지 방문 기록, 클릭 패턴등 사용자 행동 정보\n",
        "\n",
        "- 사용자 정보를 수집하기 위한 방법\n",
        "\n",
        "   - 직접적인(Explicit)방법: 설문조사, 평가, 피드백\n",
        "\n",
        "   - 간접적인(Implicit)방법: 웹페이지 머무는 시간, 클릭패턴, 검색로그\n",
        "\n",
        "\n",
        "- 개인별 추천 혹은 사용자 그룹별 추천 가능\n",
        "\n",
        "<br>\n",
        "\n",
        "### 아이템 프로필\n",
        "\n",
        "- 플랫폼마다 정의하는 아이템의 종류가 다르다\n",
        "\n",
        "- 일반적을 생각해볼 수 있는 추천 아이템 예시\n",
        "\n",
        "   - 책, 전자제품, 옷 등 웹사이트 내 웹페이지\n",
        "   - SNS에서 비슷한 게시글, 관심있을만한 사진\n",
        "   - 여행지, 음식점 등 지역 또는 장소 정보\n",
        "   - 영화,음악,동영상, TV프로그램 등 다양한 영상\n",
        "\n",
        "- 모든 것을 추천해주는 플랫폼은 없고, 플랫폼마다 관련 있는 상품 혹은 아이템만 추천한다.\n",
        "\n",
        "- 아이템 프로필에 속하는 정보\n",
        "\n",
        "   - 아이템ID, 아이템 고유 정보(크기,색,가격등), 아이템을 좋아하거나 구매한 사용자 정보"
      ],
      "metadata": {
        "id": "AODDzH8mthJF"
      }
    },
    {
      "cell_type": "markdown",
      "source": [
        ""
      ],
      "metadata": {
        "id": "ccSVV0l3riRS"
      }
    },
    {
      "cell_type": "markdown",
      "source": [
        ""
      ],
      "metadata": {
        "id": "9ScBIOdsriTO"
      }
    },
    {
      "cell_type": "markdown",
      "source": [
        ""
      ],
      "metadata": {
        "id": "o0GxRCXKriVe"
      }
    }
  ]
}